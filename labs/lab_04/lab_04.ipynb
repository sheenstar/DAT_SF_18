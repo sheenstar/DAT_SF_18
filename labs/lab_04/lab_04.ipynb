{
 "cells": [
  {
   "cell_type": "markdown",
   "metadata": {},
   "source": [
    "# GA Data Science 18 (DAT18) - Lab4"
   ]
  },
  {
   "cell_type": "markdown",
   "metadata": {},
   "source": [
    "## Lab goals\n",
    "\n",
    "- Simple APIs with Python\n",
    "- Kimono Labs: an external tool for aquiring data"
   ]
  },
  {
   "cell_type": "code",
   "execution_count": 1,
   "metadata": {
    "collapsed": true
   },
   "outputs": [],
   "source": [
    "# Imports at the top\n",
    "import json\n",
    "import urllib\n",
    "import pandas as pd\n",
    "\n",
    "import requests\n",
    "import json\n"
   ]
  },
  {
   "cell_type": "markdown",
   "metadata": {},
   "source": [
    "## Using Python APIs"
   ]
  },
  {
   "cell_type": "markdown",
   "metadata": {},
   "source": [
    "### Either Use Sheetsu or an API you've found\n",
    "Sheetsu: Turning Google Docs into APIs/\n",
    "https://sheetsu.com/"
   ]
  },
  {
   "cell_type": "markdown",
   "metadata": {
    "collapsed": true
   },
   "source": [
    "### Using Sheetsu\n",
    "I've created a GoogleDoc with wine data\n",
    "\n",
    "https://docs.google.com/spreadsheets/d/1_U-DHIrBXN8A1e3NbyOIJRORge2udmmaa8qS9mKddWo/edit#gid=0 \n",
    "https://sheetsu.com/apis/79656330"
   ]
  },
  {
   "cell_type": "code",
   "execution_count": 2,
   "metadata": {
    "collapsed": true
   },
   "outputs": [],
   "source": [
    "# You can either post or get info from this API\n",
    "# using the /column/Name you can pull only specfic subsets of the data\n",
    "api_base_url = 'https://sheetsu.com/apis/79656330'\n",
    "api_column = '/column/Rating'\n"
   ]
  },
  {
   "cell_type": "markdown",
   "metadata": {},
   "source": [
    "##### Reading Data from an API datafeed"
   ]
  },
  {
   "cell_type": "code",
   "execution_count": 3,
   "metadata": {
    "collapsed": false
   },
   "outputs": [
    {
     "data": {
      "text/plain": [
       "u'{\"status\":200,\"success\":true,\"result\":[{\"Color\":\"W\",\"Region\":\"Portugal\",\"Country\":\"Portugal\",\"Vintage\":\"2013\",\"Vinyard\":\"Vinho Verde\",\"Name\":\"\",\"Grape\":\"\",\"Consumed In\":\"2015\",\"Score\":\"4\",\"Price\":\"\"},{\"Color\":\"W\",\"Region\":\"France\",\"Country\":\"France\",\"Vintage\":\"2013\",\"Vinyard\":\"Peyruchet\",\"Name\":\"\",\"Grape\":\"\",\"Consumed In\":\"2015\",\"Score\":\"3\",\"Price\":\"17.8\"},{\"Color\":\"W\",\"Region\":\"Oregon\",\"Country\":\"Oregon\",\"Vintage\":\"2013\",\"Vinyard\":\"Abacela\",\"Name\":\"\",\"Grape\":\"\",\"Consumed In\":\"2015\",\"Score\":\"3\",\"Price\":\"20\"},{\"Color\":\"W\",\"Region\":\"Spain\",\"Country\":\"Spain\",\"Vintage\":\"2012\",\"Vinyard\":\"Ochoa\",\"Name\":\"\",\"Grape\":\"chardonay\",\"Consumed In\":\"2015\",\"Score\":\"2.5\",\"Price\":\"7\"},{\"Color\":\"R\",\"Region\":\"\",\"Country\":\"US\",\"Vintage\":\"2012\",\"Vinyard\":\"Heartland\",\"Name\":\"Spice Trader\",\"Grape\":\"chiraz, cab\",\"Consumed In\":\"2015\",\"Score\":\"3\",\"Price\":\"6\"},{\"Color\":\"R\",\"Region\":\"California\",\"Country\":\"US\",\"Vintage\":\"2012\",\"Vinyard\":\"Crow Canyon\",\"Name\":\"\",\"Grape\":\"cab\",\"Consumed In\":\"2015\",\"Score\":\"3.5\",\"Price\":\"13\"},{\"Color\":\"R\",\"Region\":\"Oregon\",\"Country\":\"US\",\"Vintage\":\"2013\",\"Vinyard\":\"Abacela\",\"Name\":\"#14\",\"Grape\":\"\",\"Consumed In\":\"2015\",\"Score\":\"2.5\",\"Price\":\"21\"},{\"Color\":\"R\",\"Region\":\"Bordeaux\",\"Country\":\"France\",\"Vintage\":\"2012\",\"Vinyard\":\"David Beaulieu\",\"Name\":\"\",\"Grape\":\"merlot, cab\",\"Consumed In\":\"2015\",\"Score\":\"3.5\",\"Price\":\"12\"},{\"Color\":\"R\",\"Region\":\"Medoc\",\"Country\":\"France\",\"Vintage\":\"2011\",\"Vinyard\":\"Chantemerle\",\"Name\":\"\",\"Grape\":\"merlot, cab\",\"Consumed In\":\"2015\",\"Score\":\"3.5\",\"Price\":\"11.99\"},{\"Color\":\"R\",\"Region\":\"Washington\",\"Country\":\"US\",\"Vintage\":\"2011\",\"Vinyard\":\"Hyatt\",\"Name\":\"\",\"Grape\":\"merlot\",\"Consumed In\":\"2015\",\"Score\":\"4\",\"Price\":\"13\"},{\"Color\":\"R\",\"Region\":\"Tuscany\",\"Country\":\"Italy\",\"Vintage\":\"2012\",\"Vinyard\":\"Rosso Dei Poggi\",\"Name\":\"Rosso Dei Poggi\",\"Grape\":\"sangiovese\",\"Consumed In\":\"2015\",\"Score\":\"3\",\"Price\":\"12\"},{\"Color\":\"R\",\"Region\":\"Tuscany\",\"Country\":\"\",\"Vintage\":\"2013\",\"Vinyard\":\"Orizzonti\",\"Name\":\"Montepulciano D\\'Abruzzo\",\"Grape\":\"\",\"Consumed In\":\"2015\",\"Score\":\"4.5\",\"Price\":\"22\"},{\"Color\":\"R\",\"Region\":\"Oregon\",\"Country\":\"US\",\"Vintage\":\"2010\",\"Vinyard\":\"Abacelo\",\"Name\":\"\",\"Grape\":\"chiraz\",\"Consumed In\":\"2015\",\"Score\":\"3.5\",\"Price\":\"7\"},{\"Color\":\"R\",\"Region\":\"Tuscany\",\"Country\":\"Italy\",\"Vintage\":\"2012\",\"Vinyard\":\"Ridolfi\",\"Name\":\"Rosso Di Montalcino\",\"Grape\":\"sangiovese\",\"Consumed In\":\"2015\",\"Score\":\"3.5\",\"Price\":\"15\"},{\"Color\":\"W\",\"Region\":\"Loire\",\"Country\":\"France\",\"Vintage\":\"2012\",\"Vinyard\":\"Celestin Blobdeau\",\"Name\":\"Sancerre Cuvee Des Moulins Bales\",\"Grape\":\"sauvignon blanc\",\"Consumed In\":\"2013\",\"Score\":\"3\",\"Price\":\"12\"},{\"Color\":\"R\",\"Region\":\"Nappa\",\"Country\":\"US\",\"Vintage\":\"2012\",\"Vinyard\":\"Belle Glos\",\"Name\":\"Meiomi\",\"Grape\":\"pinot noir\",\"Consumed In\":\"2013\",\"Score\":\"3\",\"Price\":\"13\"},{\"Color\":\"R\",\"Region\":\"France\",\"Country\":\"France\",\"Vintage\":\"2012\",\"Vinyard\":\"Puech-Haut\",\"Name\":\"Saint Drezery Prestige\",\"Grape\":\"\",\"Consumed In\":\"2013\",\"Score\":\"3\",\"Price\":\"13\"},{\"Color\":\"R\",\"Region\":\"France\",\"Country\":\"France\",\"Vintage\":\"2011\",\"Vinyard\":\"Puech-Haut\",\"Name\":\"Saint Drezery Prestige\",\"Grape\":\"\",\"Consumed In\":\"2013\",\"Score\":\"2\",\"Price\":\"14\"},{\"Color\":\"W\",\"Region\":\"Nappa\",\"Country\":\"US\",\"Vintage\":\"2012\",\"Vinyard\":\"Honig\",\"Name\":\"Sauvignon Blanc\",\"Grape\":\"sauvignon blanc\",\"Consumed In\":\"2014\",\"Score\":\"4\",\"Price\":\"14.5\"},{\"Color\":\"W\",\"Region\":\"Nappa\",\"Country\":\"US\",\"Vintage\":\"2012\",\"Vinyard\":\"Provenance\",\"Name\":\"Uppercut North Coast\",\"Grape\":\"sauvignon blanc\",\"Consumed In\":\"2014\",\"Score\":\"3\",\"Price\":\"11\"},{\"Color\":\"R\",\"Region\":\"Sicily\",\"Country\":\"Italy\",\"Vintage\":\"2011\",\"Vinyard\":\"Baglio Di Pianetto\",\"Name\":\"Nero d\\'Avola\",\"Grape\":\"\",\"Consumed In\":\"2014\",\"Score\":\"\",\"Price\":\"\"},{\"Color\":\"P\",\"Region\":\"Truro\",\"Country\":\"US\",\"Vintage\":\"2013\",\"Vinyard\":\"Truro Vineyards\",\"Name\":\"Cape Blush\",\"Grape\":\"\",\"Consumed In\":\"2014\",\"Score\":\"4\",\"Price\":\"10\"},{\"Color\":\"W\",\"Region\":\"Truro\",\"Country\":\"US\",\"Vintage\":\"2013\",\"Vinyard\":\"Truro Vineyards\",\"Name\":\"Pinot Grigio\",\"Grape\":\"pinot griogio\",\"Consumed In\":\"2014\",\"Score\":\"3\",\"Price\":\"10\"},{\"Color\":\"R\",\"Region\":\"Provence\",\"Country\":\"France\",\"Vintage\":\"2013\",\"Vinyard\":\"Chateau de la Clapiere\",\"Name\":\"Cru Classe\",\"Grape\":\"\",\"Consumed In\":\"2014\",\"Score\":\"3.5\",\"Price\":\"\"},{\"Color\":\"W\",\"Region\":\"Bordeaux\",\"Country\":\"France\",\"Vintage\":\"2013\",\"Vinyard\":\"Domaine du Claouset\",\"Name\":\"Domaine du Claouset\",\"Grape\":\"cabernet sauvignon\",\"Consumed In\":\"2015\",\"Score\":\"3\",\"Price\":\"\"},{\"Color\":\"W\",\"Region\":\"Napa\",\"Country\":\"\",\"Vintage\":\"2012\",\"Vinyard\":\"Two Angels\",\"Name\":\"Sauvignon Blanc\",\"Grape\":\"sauvignon blanc\",\"Consumed In\":\"2015\",\"Score\":\"3.5\",\"Price\":\"\"},{\"Color\":\"W\",\"Region\":\"Portugal\",\"Country\":\"Portugal\",\"Vintage\":\"2013\",\"Vinyard\":\"Mapreco\",\"Name\":\"Vinho Verde\",\"Grape\":\"\",\"Consumed In\":\"2015\",\"Score\":\"3.5\",\"Price\":\"\"},{\"Color\":\"W\",\"Region\":\"Burgundy\",\"Country\":\"France\",\"Vintage\":\"2012\",\"Vinyard\":\"Vaillons\",\"Name\":\"Vincent Dampt\",\"Grape\":\"Chablis, Vincent Dampt, Vaillons 1er (Burgundy, France) 2012 W/ Limestone taste\",\"Consumed In\":\"2015\",\"Score\":\"4\",\"Price\":\"35\"},{\"Color\":\"W\",\"Region\":\"Rias Baixas\",\"Country\":\"Spain\",\"Vintage\":\"2012\",\"Vinyard\":\"Granbazan\",\"Name\":\"Albarino\",\"Grape\":\"Albarino, Granbazan (Rias Baixas) 2012\",\"Consumed In\":\"2015\",\"Score\":\"4\",\"Price\":\"15\"},{\"Color\":\"R\",\"Region\":\"CA\",\"Country\":\"US\",\"Vintage\":\"1973\",\"Vinyard\":\"\",\"Name\":\"Dylans Wine\",\"Grape\":\"\",\"Consumed In\":\"2015\",\"Score\":\"10\",\"Price\":\"200\"}]}'"
      ]
     },
     "execution_count": 3,
     "metadata": {},
     "output_type": "execute_result"
    }
   ],
   "source": [
    "# What kind of data is this returning?\n",
    "api_response = requests.get(api_base_url)\n",
    "api_response.text"
   ]
  },
  {
   "cell_type": "code",
   "execution_count": 4,
   "metadata": {
    "collapsed": false
   },
   "outputs": [
    {
     "data": {
      "text/plain": [
       "u'{\"status\":200,\"success\":true,\"result\":[\"\",\"\",\"\",\"\",\"Spice Trader\",\"\",\"#14\",\"\",\"\",\"\",\"Rosso Dei Poggi\",\"Montepulciano D\\'Abruzzo\",\"\",\"Rosso Di Montalcino\",\"Sancerre Cuvee Des Moulins Bales\",\"Meiomi\",\"Saint Drezery Prestige\",\"Saint Drezery Prestige\",\"Sauvignon Blanc\",\"Uppercut North Coast\",\"Nero d\\'Avola\",\"Cape Blush\",\"Pinot Grigio\",\"Cru Classe\",\"Domaine du Claouset\",\"Sauvignon Blanc\",\"Vinho Verde\",\"Vincent Dampt\",\"Albarino\",\"Dylans Wine\"]}'"
      ]
     },
     "execution_count": 4,
     "metadata": {},
     "output_type": "execute_result"
    }
   ],
   "source": [
    "# What kind of data is this returning?\n",
    "api_column_url = api_base_url + api_column\n",
    "column_response = requests.get(api_column_url)\n",
    "column_response.text"
   ]
  },
  {
   "cell_type": "markdown",
   "metadata": {},
   "source": [
    "#### Reading JSON"
   ]
  },
  {
   "cell_type": "code",
   "execution_count": 5,
   "metadata": {
    "collapsed": false
   },
   "outputs": [],
   "source": [
    "reponse_dict = json.loads(api_response.text)"
   ]
  },
  {
   "cell_type": "markdown",
   "metadata": {},
   "source": [
    "#### What is the response of an API and what does it mean??"
   ]
  },
  {
   "cell_type": "code",
   "execution_count": 6,
   "metadata": {
    "collapsed": false
   },
   "outputs": [
    {
     "data": {
      "text/plain": [
       "{u'result': [{u'Color': u'W',\n",
       "   u'Consumed In': u'2015',\n",
       "   u'Country': u'Portugal',\n",
       "   u'Grape': u'',\n",
       "   u'Name': u'',\n",
       "   u'Price': u'',\n",
       "   u'Region': u'Portugal',\n",
       "   u'Score': u'4',\n",
       "   u'Vintage': u'2013',\n",
       "   u'Vinyard': u'Vinho Verde'},\n",
       "  {u'Color': u'W',\n",
       "   u'Consumed In': u'2015',\n",
       "   u'Country': u'France',\n",
       "   u'Grape': u'',\n",
       "   u'Name': u'',\n",
       "   u'Price': u'17.8',\n",
       "   u'Region': u'France',\n",
       "   u'Score': u'3',\n",
       "   u'Vintage': u'2013',\n",
       "   u'Vinyard': u'Peyruchet'},\n",
       "  {u'Color': u'W',\n",
       "   u'Consumed In': u'2015',\n",
       "   u'Country': u'Oregon',\n",
       "   u'Grape': u'',\n",
       "   u'Name': u'',\n",
       "   u'Price': u'20',\n",
       "   u'Region': u'Oregon',\n",
       "   u'Score': u'3',\n",
       "   u'Vintage': u'2013',\n",
       "   u'Vinyard': u'Abacela'},\n",
       "  {u'Color': u'W',\n",
       "   u'Consumed In': u'2015',\n",
       "   u'Country': u'Spain',\n",
       "   u'Grape': u'chardonay',\n",
       "   u'Name': u'',\n",
       "   u'Price': u'7',\n",
       "   u'Region': u'Spain',\n",
       "   u'Score': u'2.5',\n",
       "   u'Vintage': u'2012',\n",
       "   u'Vinyard': u'Ochoa'},\n",
       "  {u'Color': u'R',\n",
       "   u'Consumed In': u'2015',\n",
       "   u'Country': u'US',\n",
       "   u'Grape': u'chiraz, cab',\n",
       "   u'Name': u'Spice Trader',\n",
       "   u'Price': u'6',\n",
       "   u'Region': u'',\n",
       "   u'Score': u'3',\n",
       "   u'Vintage': u'2012',\n",
       "   u'Vinyard': u'Heartland'},\n",
       "  {u'Color': u'R',\n",
       "   u'Consumed In': u'2015',\n",
       "   u'Country': u'US',\n",
       "   u'Grape': u'cab',\n",
       "   u'Name': u'',\n",
       "   u'Price': u'13',\n",
       "   u'Region': u'California',\n",
       "   u'Score': u'3.5',\n",
       "   u'Vintage': u'2012',\n",
       "   u'Vinyard': u'Crow Canyon'},\n",
       "  {u'Color': u'R',\n",
       "   u'Consumed In': u'2015',\n",
       "   u'Country': u'US',\n",
       "   u'Grape': u'',\n",
       "   u'Name': u'#14',\n",
       "   u'Price': u'21',\n",
       "   u'Region': u'Oregon',\n",
       "   u'Score': u'2.5',\n",
       "   u'Vintage': u'2013',\n",
       "   u'Vinyard': u'Abacela'},\n",
       "  {u'Color': u'R',\n",
       "   u'Consumed In': u'2015',\n",
       "   u'Country': u'France',\n",
       "   u'Grape': u'merlot, cab',\n",
       "   u'Name': u'',\n",
       "   u'Price': u'12',\n",
       "   u'Region': u'Bordeaux',\n",
       "   u'Score': u'3.5',\n",
       "   u'Vintage': u'2012',\n",
       "   u'Vinyard': u'David Beaulieu'},\n",
       "  {u'Color': u'R',\n",
       "   u'Consumed In': u'2015',\n",
       "   u'Country': u'France',\n",
       "   u'Grape': u'merlot, cab',\n",
       "   u'Name': u'',\n",
       "   u'Price': u'11.99',\n",
       "   u'Region': u'Medoc',\n",
       "   u'Score': u'3.5',\n",
       "   u'Vintage': u'2011',\n",
       "   u'Vinyard': u'Chantemerle'},\n",
       "  {u'Color': u'R',\n",
       "   u'Consumed In': u'2015',\n",
       "   u'Country': u'US',\n",
       "   u'Grape': u'merlot',\n",
       "   u'Name': u'',\n",
       "   u'Price': u'13',\n",
       "   u'Region': u'Washington',\n",
       "   u'Score': u'4',\n",
       "   u'Vintage': u'2011',\n",
       "   u'Vinyard': u'Hyatt'},\n",
       "  {u'Color': u'R',\n",
       "   u'Consumed In': u'2015',\n",
       "   u'Country': u'Italy',\n",
       "   u'Grape': u'sangiovese',\n",
       "   u'Name': u'Rosso Dei Poggi',\n",
       "   u'Price': u'12',\n",
       "   u'Region': u'Tuscany',\n",
       "   u'Score': u'3',\n",
       "   u'Vintage': u'2012',\n",
       "   u'Vinyard': u'Rosso Dei Poggi'},\n",
       "  {u'Color': u'R',\n",
       "   u'Consumed In': u'2015',\n",
       "   u'Country': u'',\n",
       "   u'Grape': u'',\n",
       "   u'Name': u\"Montepulciano D'Abruzzo\",\n",
       "   u'Price': u'22',\n",
       "   u'Region': u'Tuscany',\n",
       "   u'Score': u'4.5',\n",
       "   u'Vintage': u'2013',\n",
       "   u'Vinyard': u'Orizzonti'},\n",
       "  {u'Color': u'R',\n",
       "   u'Consumed In': u'2015',\n",
       "   u'Country': u'US',\n",
       "   u'Grape': u'chiraz',\n",
       "   u'Name': u'',\n",
       "   u'Price': u'7',\n",
       "   u'Region': u'Oregon',\n",
       "   u'Score': u'3.5',\n",
       "   u'Vintage': u'2010',\n",
       "   u'Vinyard': u'Abacelo'},\n",
       "  {u'Color': u'R',\n",
       "   u'Consumed In': u'2015',\n",
       "   u'Country': u'Italy',\n",
       "   u'Grape': u'sangiovese',\n",
       "   u'Name': u'Rosso Di Montalcino',\n",
       "   u'Price': u'15',\n",
       "   u'Region': u'Tuscany',\n",
       "   u'Score': u'3.5',\n",
       "   u'Vintage': u'2012',\n",
       "   u'Vinyard': u'Ridolfi'},\n",
       "  {u'Color': u'W',\n",
       "   u'Consumed In': u'2013',\n",
       "   u'Country': u'France',\n",
       "   u'Grape': u'sauvignon blanc',\n",
       "   u'Name': u'Sancerre Cuvee Des Moulins Bales',\n",
       "   u'Price': u'12',\n",
       "   u'Region': u'Loire',\n",
       "   u'Score': u'3',\n",
       "   u'Vintage': u'2012',\n",
       "   u'Vinyard': u'Celestin Blobdeau'},\n",
       "  {u'Color': u'R',\n",
       "   u'Consumed In': u'2013',\n",
       "   u'Country': u'US',\n",
       "   u'Grape': u'pinot noir',\n",
       "   u'Name': u'Meiomi',\n",
       "   u'Price': u'13',\n",
       "   u'Region': u'Nappa',\n",
       "   u'Score': u'3',\n",
       "   u'Vintage': u'2012',\n",
       "   u'Vinyard': u'Belle Glos'},\n",
       "  {u'Color': u'R',\n",
       "   u'Consumed In': u'2013',\n",
       "   u'Country': u'France',\n",
       "   u'Grape': u'',\n",
       "   u'Name': u'Saint Drezery Prestige',\n",
       "   u'Price': u'13',\n",
       "   u'Region': u'France',\n",
       "   u'Score': u'3',\n",
       "   u'Vintage': u'2012',\n",
       "   u'Vinyard': u'Puech-Haut'},\n",
       "  {u'Color': u'R',\n",
       "   u'Consumed In': u'2013',\n",
       "   u'Country': u'France',\n",
       "   u'Grape': u'',\n",
       "   u'Name': u'Saint Drezery Prestige',\n",
       "   u'Price': u'14',\n",
       "   u'Region': u'France',\n",
       "   u'Score': u'2',\n",
       "   u'Vintage': u'2011',\n",
       "   u'Vinyard': u'Puech-Haut'},\n",
       "  {u'Color': u'W',\n",
       "   u'Consumed In': u'2014',\n",
       "   u'Country': u'US',\n",
       "   u'Grape': u'sauvignon blanc',\n",
       "   u'Name': u'Sauvignon Blanc',\n",
       "   u'Price': u'14.5',\n",
       "   u'Region': u'Nappa',\n",
       "   u'Score': u'4',\n",
       "   u'Vintage': u'2012',\n",
       "   u'Vinyard': u'Honig'},\n",
       "  {u'Color': u'W',\n",
       "   u'Consumed In': u'2014',\n",
       "   u'Country': u'US',\n",
       "   u'Grape': u'sauvignon blanc',\n",
       "   u'Name': u'Uppercut North Coast',\n",
       "   u'Price': u'11',\n",
       "   u'Region': u'Nappa',\n",
       "   u'Score': u'3',\n",
       "   u'Vintage': u'2012',\n",
       "   u'Vinyard': u'Provenance'},\n",
       "  {u'Color': u'R',\n",
       "   u'Consumed In': u'2014',\n",
       "   u'Country': u'Italy',\n",
       "   u'Grape': u'',\n",
       "   u'Name': u\"Nero d'Avola\",\n",
       "   u'Price': u'',\n",
       "   u'Region': u'Sicily',\n",
       "   u'Score': u'',\n",
       "   u'Vintage': u'2011',\n",
       "   u'Vinyard': u'Baglio Di Pianetto'},\n",
       "  {u'Color': u'P',\n",
       "   u'Consumed In': u'2014',\n",
       "   u'Country': u'US',\n",
       "   u'Grape': u'',\n",
       "   u'Name': u'Cape Blush',\n",
       "   u'Price': u'10',\n",
       "   u'Region': u'Truro',\n",
       "   u'Score': u'4',\n",
       "   u'Vintage': u'2013',\n",
       "   u'Vinyard': u'Truro Vineyards'},\n",
       "  {u'Color': u'W',\n",
       "   u'Consumed In': u'2014',\n",
       "   u'Country': u'US',\n",
       "   u'Grape': u'pinot griogio',\n",
       "   u'Name': u'Pinot Grigio',\n",
       "   u'Price': u'10',\n",
       "   u'Region': u'Truro',\n",
       "   u'Score': u'3',\n",
       "   u'Vintage': u'2013',\n",
       "   u'Vinyard': u'Truro Vineyards'},\n",
       "  {u'Color': u'R',\n",
       "   u'Consumed In': u'2014',\n",
       "   u'Country': u'France',\n",
       "   u'Grape': u'',\n",
       "   u'Name': u'Cru Classe',\n",
       "   u'Price': u'',\n",
       "   u'Region': u'Provence',\n",
       "   u'Score': u'3.5',\n",
       "   u'Vintage': u'2013',\n",
       "   u'Vinyard': u'Chateau de la Clapiere'},\n",
       "  {u'Color': u'W',\n",
       "   u'Consumed In': u'2015',\n",
       "   u'Country': u'France',\n",
       "   u'Grape': u'cabernet sauvignon',\n",
       "   u'Name': u'Domaine du Claouset',\n",
       "   u'Price': u'',\n",
       "   u'Region': u'Bordeaux',\n",
       "   u'Score': u'3',\n",
       "   u'Vintage': u'2013',\n",
       "   u'Vinyard': u'Domaine du Claouset'},\n",
       "  {u'Color': u'W',\n",
       "   u'Consumed In': u'2015',\n",
       "   u'Country': u'',\n",
       "   u'Grape': u'sauvignon blanc',\n",
       "   u'Name': u'Sauvignon Blanc',\n",
       "   u'Price': u'',\n",
       "   u'Region': u'Napa',\n",
       "   u'Score': u'3.5',\n",
       "   u'Vintage': u'2012',\n",
       "   u'Vinyard': u'Two Angels'},\n",
       "  {u'Color': u'W',\n",
       "   u'Consumed In': u'2015',\n",
       "   u'Country': u'Portugal',\n",
       "   u'Grape': u'',\n",
       "   u'Name': u'Vinho Verde',\n",
       "   u'Price': u'',\n",
       "   u'Region': u'Portugal',\n",
       "   u'Score': u'3.5',\n",
       "   u'Vintage': u'2013',\n",
       "   u'Vinyard': u'Mapreco'},\n",
       "  {u'Color': u'W',\n",
       "   u'Consumed In': u'2015',\n",
       "   u'Country': u'France',\n",
       "   u'Grape': u'Chablis, Vincent Dampt, Vaillons 1er (Burgundy, France) 2012 W/ Limestone taste',\n",
       "   u'Name': u'Vincent Dampt',\n",
       "   u'Price': u'35',\n",
       "   u'Region': u'Burgundy',\n",
       "   u'Score': u'4',\n",
       "   u'Vintage': u'2012',\n",
       "   u'Vinyard': u'Vaillons'},\n",
       "  {u'Color': u'W',\n",
       "   u'Consumed In': u'2015',\n",
       "   u'Country': u'Spain',\n",
       "   u'Grape': u'Albarino, Granbazan (Rias Baixas) 2012',\n",
       "   u'Name': u'Albarino',\n",
       "   u'Price': u'15',\n",
       "   u'Region': u'Rias Baixas',\n",
       "   u'Score': u'4',\n",
       "   u'Vintage': u'2012',\n",
       "   u'Vinyard': u'Granbazan'},\n",
       "  {u'Color': u'R',\n",
       "   u'Consumed In': u'2015',\n",
       "   u'Country': u'US',\n",
       "   u'Grape': u'',\n",
       "   u'Name': u'Dylans Wine',\n",
       "   u'Price': u'200',\n",
       "   u'Region': u'CA',\n",
       "   u'Score': u'10',\n",
       "   u'Vintage': u'1973',\n",
       "   u'Vinyard': u''}],\n",
       " u'status': 200,\n",
       " u'success': True}"
      ]
     },
     "execution_count": 6,
     "metadata": {},
     "output_type": "execute_result"
    }
   ],
   "source": [
    "# What data was returned?\n",
    "reponse_dict"
   ]
  },
  {
   "cell_type": "markdown",
   "metadata": {},
   "source": [
    "#### Lets read the data into a DataFrame!"
   ]
  },
  {
   "cell_type": "code",
   "execution_count": null,
   "metadata": {
    "collapsed": false
   },
   "outputs": [],
   "source": [
    "wine_df = pd.DataFrame(reponse_dict['result'])\n",
    "wine_df.head()"
   ]
  },
  {
   "cell_type": "markdown",
   "metadata": {},
   "source": [
    "#### Pandas has great functions. We could just do it this way\n",
    "\n",
    "This sometimes works, but the data may need adjusting"
   ]
  },
  {
   "cell_type": "code",
   "execution_count": null,
   "metadata": {
    "collapsed": false
   },
   "outputs": [],
   "source": [
    "pd.read_json(api_response.text).head(2)"
   ]
  },
  {
   "cell_type": "code",
   "execution_count": null,
   "metadata": {
    "collapsed": false
   },
   "outputs": [],
   "source": [
    "wine_df = pd.DataFrame(list(pd.read_json(api_response.text).result.values))\n",
    "wine_df.head(2)"
   ]
  },
  {
   "cell_type": "markdown",
   "metadata": {},
   "source": [
    "#### Writing to an API using PUT\n",
    "You will rarely need to do this"
   ]
  },
  {
   "cell_type": "code",
   "execution_count": null,
   "metadata": {
    "collapsed": false
   },
   "outputs": [],
   "source": [
    "# Send data to an API\n",
    "post_data = {\n",
    "    'Grape' : ''\n",
    "    , 'Name' : 'Dylans Wine'\n",
    "    , 'Color' : 'R'\n",
    "    , 'Country' : 'US'\n",
    "    , 'Region' : 'CA'\n",
    "    , 'Vinyard' : ''\n",
    "    , 'Score' : '10'\n",
    "    , 'Consumed In' : '2015'\n",
    "    , 'Vintage' : '1973'\n",
    "    , 'Price' : '200'\n",
    "    }\n",
    "requests.post(api_base_url, data=post_data)\n"
   ]
  },
  {
   "cell_type": "markdown",
   "metadata": {},
   "source": [
    "### Exercise 1\n",
    "    - Either with your own google doc or a different API\n",
    "    - Extract some data using requests\n",
    "    - Pull the data into a DataFrame\n",
    "    - Search For missing data\n",
    "        - Is there any missing data you can clean?\n",
    "        - Is there any data you can just remove?\n",
    "    - Summarize the data \n",
    "        - Try using describe, min, max, mean, var\n",
    "        - What are the unique values and can you do anything with the text?\n",
    "            Hint: Try using pd.get_dummies\n",
    "    - Bonus: Create some visualizations form this data\n",
    "    - Bonus: Try using sheetsu to push new data to the google doc (requests.post)"
   ]
  },
  {
   "cell_type": "code",
   "execution_count": 1,
   "metadata": {
    "collapsed": true
   },
   "outputs": [],
   "source": [
    "api_column = '/column/Country'"
   ]
  },
  {
   "cell_type": "code",
   "execution_count": 2,
   "metadata": {
    "collapsed": false
   },
   "outputs": [
    {
     "name": "stdout",
     "output_type": "stream",
     "text": [
      "/column/Country\n"
     ]
    }
   ],
   "source": [
    "print api_column"
   ]
  },
  {
   "cell_type": "markdown",
   "metadata": {},
   "source": []
  },
  {
   "cell_type": "code",
   "execution_count": 10,
   "metadata": {
    "collapsed": true
   },
   "outputs": [],
   "source": [
    "import requests"
   ]
  },
  {
   "cell_type": "code",
   "execution_count": 11,
   "metadata": {
    "collapsed": false
   },
   "outputs": [],
   "source": [
    "api_base_url = 'https://sheetsu.com/apis/79656330'\n",
    "api_column = '/column/Country'"
   ]
  },
  {
   "cell_type": "code",
   "execution_count": 12,
   "metadata": {
    "collapsed": false
   },
   "outputs": [
    {
     "data": {
      "text/plain": [
       "u'{\"status\":200,\"success\":true,\"result\":[{\"Color\":\"W\",\"Region\":\"Portugal\",\"Country\":\"Portugal\",\"Vintage\":\"2013\",\"Vinyard\":\"Vinho Verde\",\"Name\":\"\",\"Grape\":\"\",\"Consumed In\":\"2015\",\"Score\":\"4\",\"Price\":\"\"},{\"Color\":\"W\",\"Region\":\"France\",\"Country\":\"France\",\"Vintage\":\"2013\",\"Vinyard\":\"Peyruchet\",\"Name\":\"\",\"Grape\":\"\",\"Consumed In\":\"2015\",\"Score\":\"3\",\"Price\":\"17.8\"},{\"Color\":\"W\",\"Region\":\"Oregon\",\"Country\":\"Oregon\",\"Vintage\":\"2013\",\"Vinyard\":\"Abacela\",\"Name\":\"\",\"Grape\":\"\",\"Consumed In\":\"2015\",\"Score\":\"3\",\"Price\":\"20\"},{\"Color\":\"W\",\"Region\":\"Spain\",\"Country\":\"Spain\",\"Vintage\":\"2012\",\"Vinyard\":\"Ochoa\",\"Name\":\"\",\"Grape\":\"chardonay\",\"Consumed In\":\"2015\",\"Score\":\"2.5\",\"Price\":\"7\"},{\"Color\":\"R\",\"Region\":\"\",\"Country\":\"US\",\"Vintage\":\"2012\",\"Vinyard\":\"Heartland\",\"Name\":\"Spice Trader\",\"Grape\":\"chiraz, cab\",\"Consumed In\":\"2015\",\"Score\":\"3\",\"Price\":\"6\"},{\"Color\":\"R\",\"Region\":\"California\",\"Country\":\"US\",\"Vintage\":\"2012\",\"Vinyard\":\"Crow Canyon\",\"Name\":\"\",\"Grape\":\"cab\",\"Consumed In\":\"2015\",\"Score\":\"3.5\",\"Price\":\"13\"},{\"Color\":\"R\",\"Region\":\"Oregon\",\"Country\":\"US\",\"Vintage\":\"2013\",\"Vinyard\":\"Abacela\",\"Name\":\"#14\",\"Grape\":\"\",\"Consumed In\":\"2015\",\"Score\":\"2.5\",\"Price\":\"21\"},{\"Color\":\"R\",\"Region\":\"Bordeaux\",\"Country\":\"France\",\"Vintage\":\"2012\",\"Vinyard\":\"David Beaulieu\",\"Name\":\"\",\"Grape\":\"merlot, cab\",\"Consumed In\":\"2015\",\"Score\":\"3.5\",\"Price\":\"12\"},{\"Color\":\"R\",\"Region\":\"Medoc\",\"Country\":\"France\",\"Vintage\":\"2011\",\"Vinyard\":\"Chantemerle\",\"Name\":\"\",\"Grape\":\"merlot, cab\",\"Consumed In\":\"2015\",\"Score\":\"3.5\",\"Price\":\"11.99\"},{\"Color\":\"R\",\"Region\":\"Washington\",\"Country\":\"US\",\"Vintage\":\"2011\",\"Vinyard\":\"Hyatt\",\"Name\":\"\",\"Grape\":\"merlot\",\"Consumed In\":\"2015\",\"Score\":\"4\",\"Price\":\"13\"},{\"Color\":\"R\",\"Region\":\"Tuscany\",\"Country\":\"Italy\",\"Vintage\":\"2012\",\"Vinyard\":\"Rosso Dei Poggi\",\"Name\":\"Rosso Dei Poggi\",\"Grape\":\"sangiovese\",\"Consumed In\":\"2015\",\"Score\":\"3\",\"Price\":\"12\"},{\"Color\":\"R\",\"Region\":\"Tuscany\",\"Country\":\"\",\"Vintage\":\"2013\",\"Vinyard\":\"Orizzonti\",\"Name\":\"Montepulciano D\\'Abruzzo\",\"Grape\":\"\",\"Consumed In\":\"2015\",\"Score\":\"4.5\",\"Price\":\"22\"},{\"Color\":\"R\",\"Region\":\"Oregon\",\"Country\":\"US\",\"Vintage\":\"2010\",\"Vinyard\":\"Abacelo\",\"Name\":\"\",\"Grape\":\"chiraz\",\"Consumed In\":\"2015\",\"Score\":\"3.5\",\"Price\":\"7\"},{\"Color\":\"R\",\"Region\":\"Tuscany\",\"Country\":\"Italy\",\"Vintage\":\"2012\",\"Vinyard\":\"Ridolfi\",\"Name\":\"Rosso Di Montalcino\",\"Grape\":\"sangiovese\",\"Consumed In\":\"2015\",\"Score\":\"3.5\",\"Price\":\"15\"},{\"Color\":\"W\",\"Region\":\"Loire\",\"Country\":\"France\",\"Vintage\":\"2012\",\"Vinyard\":\"Celestin Blobdeau\",\"Name\":\"Sancerre Cuvee Des Moulins Bales\",\"Grape\":\"sauvignon blanc\",\"Consumed In\":\"2013\",\"Score\":\"3\",\"Price\":\"12\"},{\"Color\":\"R\",\"Region\":\"Nappa\",\"Country\":\"US\",\"Vintage\":\"2012\",\"Vinyard\":\"Belle Glos\",\"Name\":\"Meiomi\",\"Grape\":\"pinot noir\",\"Consumed In\":\"2013\",\"Score\":\"3\",\"Price\":\"13\"},{\"Color\":\"R\",\"Region\":\"France\",\"Country\":\"France\",\"Vintage\":\"2012\",\"Vinyard\":\"Puech-Haut\",\"Name\":\"Saint Drezery Prestige\",\"Grape\":\"\",\"Consumed In\":\"2013\",\"Score\":\"3\",\"Price\":\"13\"},{\"Color\":\"R\",\"Region\":\"France\",\"Country\":\"France\",\"Vintage\":\"2011\",\"Vinyard\":\"Puech-Haut\",\"Name\":\"Saint Drezery Prestige\",\"Grape\":\"\",\"Consumed In\":\"2013\",\"Score\":\"2\",\"Price\":\"14\"},{\"Color\":\"W\",\"Region\":\"Nappa\",\"Country\":\"US\",\"Vintage\":\"2012\",\"Vinyard\":\"Honig\",\"Name\":\"Sauvignon Blanc\",\"Grape\":\"sauvignon blanc\",\"Consumed In\":\"2014\",\"Score\":\"4\",\"Price\":\"14.5\"},{\"Color\":\"W\",\"Region\":\"Nappa\",\"Country\":\"US\",\"Vintage\":\"2012\",\"Vinyard\":\"Provenance\",\"Name\":\"Uppercut North Coast\",\"Grape\":\"sauvignon blanc\",\"Consumed In\":\"2014\",\"Score\":\"3\",\"Price\":\"11\"},{\"Color\":\"R\",\"Region\":\"Sicily\",\"Country\":\"Italy\",\"Vintage\":\"2011\",\"Vinyard\":\"Baglio Di Pianetto\",\"Name\":\"Nero d\\'Avola\",\"Grape\":\"\",\"Consumed In\":\"2014\",\"Score\":\"\",\"Price\":\"\"},{\"Color\":\"P\",\"Region\":\"Truro\",\"Country\":\"US\",\"Vintage\":\"2013\",\"Vinyard\":\"Truro Vineyards\",\"Name\":\"Cape Blush\",\"Grape\":\"\",\"Consumed In\":\"2014\",\"Score\":\"4\",\"Price\":\"10\"},{\"Color\":\"W\",\"Region\":\"Truro\",\"Country\":\"US\",\"Vintage\":\"2013\",\"Vinyard\":\"Truro Vineyards\",\"Name\":\"Pinot Grigio\",\"Grape\":\"pinot griogio\",\"Consumed In\":\"2014\",\"Score\":\"3\",\"Price\":\"10\"},{\"Color\":\"R\",\"Region\":\"Provence\",\"Country\":\"France\",\"Vintage\":\"2013\",\"Vinyard\":\"Chateau de la Clapiere\",\"Name\":\"Cru Classe\",\"Grape\":\"\",\"Consumed In\":\"2014\",\"Score\":\"3.5\",\"Price\":\"\"},{\"Color\":\"W\",\"Region\":\"Bordeaux\",\"Country\":\"France\",\"Vintage\":\"2013\",\"Vinyard\":\"Domaine du Claouset\",\"Name\":\"Domaine du Claouset\",\"Grape\":\"cabernet sauvignon\",\"Consumed In\":\"2015\",\"Score\":\"3\",\"Price\":\"\"},{\"Color\":\"W\",\"Region\":\"Napa\",\"Country\":\"\",\"Vintage\":\"2012\",\"Vinyard\":\"Two Angels\",\"Name\":\"Sauvignon Blanc\",\"Grape\":\"sauvignon blanc\",\"Consumed In\":\"2015\",\"Score\":\"3.5\",\"Price\":\"\"},{\"Color\":\"W\",\"Region\":\"Portugal\",\"Country\":\"Portugal\",\"Vintage\":\"2013\",\"Vinyard\":\"Mapreco\",\"Name\":\"Vinho Verde\",\"Grape\":\"\",\"Consumed In\":\"2015\",\"Score\":\"3.5\",\"Price\":\"\"},{\"Color\":\"W\",\"Region\":\"Burgundy\",\"Country\":\"France\",\"Vintage\":\"2012\",\"Vinyard\":\"Vaillons\",\"Name\":\"Vincent Dampt\",\"Grape\":\"Chablis, Vincent Dampt, Vaillons 1er (Burgundy, France) 2012 W/ Limestone taste\",\"Consumed In\":\"2015\",\"Score\":\"4\",\"Price\":\"35\"},{\"Color\":\"W\",\"Region\":\"Rias Baixas\",\"Country\":\"Spain\",\"Vintage\":\"2012\",\"Vinyard\":\"Granbazan\",\"Name\":\"Albarino\",\"Grape\":\"Albarino, Granbazan (Rias Baixas) 2012\",\"Consumed In\":\"2015\",\"Score\":\"4\",\"Price\":\"15\"},{\"Color\":\"R\",\"Region\":\"CA\",\"Country\":\"US\",\"Vintage\":\"1973\",\"Vinyard\":\"\",\"Name\":\"Dylans Wine\",\"Grape\":\"\",\"Consumed In\":\"2015\",\"Score\":\"10\",\"Price\":\"200\"},{\"Color\":\"R\",\"Region\":\"CA\",\"Country\":\"US\",\"Vintage\":\"1973\",\"Vinyard\":\"\",\"Name\":\"Dylans Wine\",\"Grape\":\"\",\"Consumed In\":\"2015\",\"Score\":\"10\",\"Price\":\"200\"},{\"Color\":\"R\",\"Region\":\"CA\",\"Country\":\"US\",\"Vintage\":\"1973\",\"Vinyard\":\"\",\"Name\":\"Dylans Wine\",\"Grape\":\"\",\"Consumed In\":\"2015\",\"Score\":\"10\",\"Price\":\"200\"},{\"Color\":\"R\",\"Region\":\"CA\",\"Country\":\"US\",\"Vintage\":\"1973\",\"Vinyard\":\"\",\"Name\":\"Dylans Wine\",\"Grape\":\"\",\"Consumed In\":\"2015\",\"Score\":\"10\",\"Price\":\"200\"},{\"Color\":\"R\",\"Region\":\"CA\",\"Country\":\"US\",\"Vintage\":\"1973\",\"Vinyard\":\"\",\"Name\":\"Dylans Wine\",\"Grape\":\"\",\"Consumed In\":\"2015\",\"Score\":\"10\",\"Price\":\"200\"},{\"Color\":\"R\",\"Region\":\"CA\",\"Country\":\"US\",\"Vintage\":\"1973\",\"Vinyard\":\"\",\"Name\":\"Dylans Wine\",\"Grape\":\"\",\"Consumed In\":\"2015\",\"Score\":\"10\",\"Price\":\"200\"},{\"Color\":\"R\",\"Region\":\"CA\",\"Country\":\"US\",\"Vintage\":\"1973\",\"Vinyard\":\"\",\"Name\":\"Dylans Wine\",\"Grape\":\"\",\"Consumed In\":\"2015\",\"Score\":\"10\",\"Price\":\"200\"},{\"Color\":\"R\",\"Region\":\"CA\",\"Country\":\"US\",\"Vintage\":\"1973\",\"Vinyard\":\"\",\"Name\":\"Dylans Wine\",\"Grape\":\"\",\"Consumed In\":\"2015\",\"Score\":\"10\",\"Price\":\"200\"},{\"Color\":\"R\",\"Region\":\"CA\",\"Country\":\"US\",\"Vintage\":\"1973\",\"Vinyard\":\"\",\"Name\":\"Dylans Wine\",\"Grape\":\"\",\"Consumed In\":\"2015\",\"Score\":\"10\",\"Price\":\"200\"},{\"Color\":\"R\",\"Region\":\"CA\",\"Country\":\"US\",\"Vintage\":\"1973\",\"Vinyard\":\"\",\"Name\":\"Dylans Wine\",\"Grape\":\"\",\"Consumed In\":\"2015\",\"Score\":\"10\",\"Price\":\"200\"},{\"Color\":\"R\",\"Region\":\"CA\",\"Country\":\"US\",\"Vintage\":\"1973\",\"Vinyard\":\"\",\"Name\":\"Dylans Wine\",\"Grape\":\"\",\"Consumed In\":\"2015\",\"Score\":\"10\",\"Price\":\"200\"},{\"Color\":\"R\",\"Region\":\"CA\",\"Country\":\"US\",\"Vintage\":\"1973\",\"Vinyard\":\"\",\"Name\":\"Dylans Wine\",\"Grape\":\"\",\"Consumed In\":\"2015\",\"Score\":\"10\",\"Price\":\"200\"},{\"Color\":\"R\",\"Region\":\"CA\",\"Country\":\"US\",\"Vintage\":\"1973\",\"Vinyard\":\"\",\"Name\":\"Dylans Wine\",\"Grape\":\"\",\"Consumed In\":\"2015\",\"Score\":\"10\",\"Price\":\"200\"},{\"Color\":\"R\",\"Region\":\"CA\",\"Country\":\"US\",\"Vintage\":\"1973\",\"Vinyard\":\"\",\"Name\":\"Dylans Wine\",\"Grape\":\"\",\"Consumed In\":\"2015\",\"Score\":\"10\",\"Price\":\"200\"},{\"Color\":\"R\",\"Region\":\"CA\",\"Country\":\"US\",\"Vintage\":\"1973\",\"Vinyard\":\"\",\"Name\":\"Lizs Wine\",\"Grape\":\"\",\"Consumed In\":\"2015\",\"Score\":\"10\",\"Price\":\"200\"},{\"Color\":\"R\",\"Region\":\"CA\",\"Country\":\"US\",\"Vintage\":\"1973\",\"Vinyard\":\"\",\"Name\":\"Michaels Wine\",\"Grape\":\"\",\"Consumed In\":\"2015\",\"Score\":\"10\",\"Price\":\"200\"},{\"Color\":\"R\",\"Region\":\"CA\",\"Country\":\"US\",\"Vintage\":\"1973\",\"Vinyard\":\"\",\"Name\":\"Chun Chun Bun Bun\",\"Grape\":\"\",\"Consumed In\":\"2015\",\"Score\":\"10\",\"Price\":\"200\"},{\"Color\":\"R\",\"Region\":\"China\",\"Country\":\"China\",\"Vintage\":\"1973\",\"Vinyard\":\"backyard\",\"Name\":\"Chun Hei Chow\",\"Grape\":\"\",\"Consumed In\":\"allday bruh\",\"Score\":\"10\",\"Price\":\"200\"},{\"Color\":\"R\",\"Region\":\"CA\",\"Country\":\"US\",\"Vintage\":\"1973\",\"Vinyard\":\"\",\"Name\":\"Dylans Wine\",\"Grape\":\"\",\"Consumed In\":\"2015\",\"Score\":\"10\",\"Price\":\"200\"},{\"Color\":\"R\",\"Region\":\"CA\",\"Country\":\"US\",\"Vintage\":\"1973\",\"Vinyard\":\"\",\"Name\":\"Dylans Wine\",\"Grape\":\"\",\"Consumed In\":\"2015\",\"Score\":\"10\",\"Price\":\"200\"},{\"Color\":\"R\",\"Region\":\"CA\",\"Country\":\"US\",\"Vintage\":\"1973\",\"Vinyard\":\"\",\"Name\":\"Dylans Wine\",\"Grape\":\"\",\"Consumed In\":\"2015\",\"Score\":\"10\",\"Price\":\"200\"},{\"Color\":\"R\",\"Region\":\"CA\",\"Country\":\"US\",\"Vintage\":\"1973\",\"Vinyard\":\"\",\"Name\":\"Dylans Wine\",\"Grape\":\"\",\"Consumed In\":\"2015\",\"Score\":\"10\",\"Price\":\"200\"},{\"Color\":\"R\",\"Region\":\"CA\",\"Country\":\"US\",\"Vintage\":\"1973\",\"Vinyard\":\"\",\"Name\":\"Dylans Wine\",\"Grape\":\"\",\"Consumed In\":\"2015\",\"Score\":\"10\",\"Price\":\"200\"},{\"Color\":\"R\",\"Region\":\"CA\",\"Country\":\"US\",\"Vintage\":\"1973\",\"Vinyard\":\"\",\"Name\":\"Dylans Wine\",\"Grape\":\"\",\"Consumed In\":\"2015\",\"Score\":\"10\",\"Price\":\"200\"}]}'"
      ]
     },
     "execution_count": 12,
     "metadata": {},
     "output_type": "execute_result"
    }
   ],
   "source": [
    "api_country = requests.get(api_base_url)\n",
    "api_country.text"
   ]
  },
  {
   "cell_type": "code",
   "execution_count": 7,
   "metadata": {
    "collapsed": false
   },
   "outputs": [],
   "source": [
    "import pandas as pd"
   ]
  },
  {
   "cell_type": "code",
   "execution_count": 8,
   "metadata": {
    "collapsed": true
   },
   "outputs": [],
   "source": [
    "api_base_url = 'https://sheetsu.com/apis/79656330'\n",
    "api_column = '/column/Country'"
   ]
  },
  {
   "cell_type": "code",
   "execution_count": 15,
   "metadata": {
    "collapsed": false
   },
   "outputs": [
    {
     "data": {
      "text/plain": [
       "'https://sheetsu.com/apis/79656330/column/Country'"
      ]
     },
     "execution_count": 15,
     "metadata": {},
     "output_type": "execute_result"
    }
   ],
   "source": [
    "api_base_url + api_column"
   ]
  },
  {
   "cell_type": "code",
   "execution_count": 16,
   "metadata": {
    "collapsed": false
   },
   "outputs": [
    {
     "data": {
      "text/plain": [
       "u'{\"status\":200,\"success\":true,\"result\":[\"Portugal\",\"France\",\"Oregon\",\"Spain\",\"US\",\"US\",\"US\",\"France\",\"France\",\"US\",\"Italy\",\"\",\"US\",\"Italy\",\"France\",\"US\",\"France\",\"France\",\"US\",\"US\",\"Italy\",\"US\",\"US\",\"France\",\"France\",\"\",\"Portugal\",\"France\",\"Spain\",\"US\",\"US\",\"US\",\"US\",\"US\",\"US\",\"US\",\"US\",\"US\",\"US\",\"US\",\"US\",\"US\",\"US\",\"US\",\"US\",\"US\",\"China\",\"US\",\"US\",\"US\",\"US\",\"US\",\"US\"]}'"
      ]
     },
     "execution_count": 16,
     "metadata": {},
     "output_type": "execute_result"
    }
   ],
   "source": [
    "api_country = requests.get(api_base_url + api_column)\n",
    "api_country.text"
   ]
  },
  {
   "cell_type": "code",
   "execution_count": 19,
   "metadata": {
    "collapsed": false
   },
   "outputs": [],
   "source": [
    "reponse_dict = json.loads(api_country.text)"
   ]
  },
  {
   "cell_type": "raw",
   "metadata": {},
   "source": []
  },
  {
   "cell_type": "code",
   "execution_count": 18,
   "metadata": {
    "collapsed": true
   },
   "outputs": [],
   "source": [
    "import json"
   ]
  },
  {
   "cell_type": "code",
   "execution_count": 20,
   "metadata": {
    "collapsed": false
   },
   "outputs": [
    {
     "data": {
      "text/html": [
       "<div>\n",
       "<table border=\"1\" class=\"dataframe\">\n",
       "  <thead>\n",
       "    <tr style=\"text-align: right;\">\n",
       "      <th></th>\n",
       "      <th>0</th>\n",
       "    </tr>\n",
       "  </thead>\n",
       "  <tbody>\n",
       "    <tr>\n",
       "      <th>0</th>\n",
       "      <td>Portugal</td>\n",
       "    </tr>\n",
       "    <tr>\n",
       "      <th>1</th>\n",
       "      <td>France</td>\n",
       "    </tr>\n",
       "    <tr>\n",
       "      <th>2</th>\n",
       "      <td>Oregon</td>\n",
       "    </tr>\n",
       "    <tr>\n",
       "      <th>3</th>\n",
       "      <td>Spain</td>\n",
       "    </tr>\n",
       "    <tr>\n",
       "      <th>4</th>\n",
       "      <td>US</td>\n",
       "    </tr>\n",
       "  </tbody>\n",
       "</table>\n",
       "</div>"
      ],
      "text/plain": [
       "          0\n",
       "0  Portugal\n",
       "1    France\n",
       "2    Oregon\n",
       "3     Spain\n",
       "4        US"
      ]
     },
     "execution_count": 20,
     "metadata": {},
     "output_type": "execute_result"
    }
   ],
   "source": [
    "winecountry_df = pd.DataFrame(reponse_dict['result'])\n",
    "winecountry_df.head()"
   ]
  },
  {
   "cell_type": "code",
   "execution_count": 28,
   "metadata": {
    "collapsed": false
   },
   "outputs": [
    {
     "data": {
      "text/html": [
       "<div>\n",
       "<table border=\"1\" class=\"dataframe\">\n",
       "  <thead>\n",
       "    <tr style=\"text-align: right;\">\n",
       "      <th></th>\n",
       "      <th>0</th>\n",
       "    </tr>\n",
       "  </thead>\n",
       "  <tbody>\n",
       "    <tr>\n",
       "      <th>0</th>\n",
       "      <td>False</td>\n",
       "    </tr>\n",
       "    <tr>\n",
       "      <th>1</th>\n",
       "      <td>False</td>\n",
       "    </tr>\n",
       "    <tr>\n",
       "      <th>2</th>\n",
       "      <td>False</td>\n",
       "    </tr>\n",
       "    <tr>\n",
       "      <th>3</th>\n",
       "      <td>False</td>\n",
       "    </tr>\n",
       "    <tr>\n",
       "      <th>4</th>\n",
       "      <td>False</td>\n",
       "    </tr>\n",
       "    <tr>\n",
       "      <th>5</th>\n",
       "      <td>False</td>\n",
       "    </tr>\n",
       "    <tr>\n",
       "      <th>6</th>\n",
       "      <td>False</td>\n",
       "    </tr>\n",
       "    <tr>\n",
       "      <th>7</th>\n",
       "      <td>False</td>\n",
       "    </tr>\n",
       "    <tr>\n",
       "      <th>8</th>\n",
       "      <td>False</td>\n",
       "    </tr>\n",
       "    <tr>\n",
       "      <th>9</th>\n",
       "      <td>False</td>\n",
       "    </tr>\n",
       "    <tr>\n",
       "      <th>10</th>\n",
       "      <td>False</td>\n",
       "    </tr>\n",
       "    <tr>\n",
       "      <th>11</th>\n",
       "      <td>True</td>\n",
       "    </tr>\n",
       "    <tr>\n",
       "      <th>12</th>\n",
       "      <td>False</td>\n",
       "    </tr>\n",
       "    <tr>\n",
       "      <th>13</th>\n",
       "      <td>False</td>\n",
       "    </tr>\n",
       "    <tr>\n",
       "      <th>14</th>\n",
       "      <td>False</td>\n",
       "    </tr>\n",
       "    <tr>\n",
       "      <th>15</th>\n",
       "      <td>False</td>\n",
       "    </tr>\n",
       "    <tr>\n",
       "      <th>16</th>\n",
       "      <td>False</td>\n",
       "    </tr>\n",
       "    <tr>\n",
       "      <th>17</th>\n",
       "      <td>False</td>\n",
       "    </tr>\n",
       "    <tr>\n",
       "      <th>18</th>\n",
       "      <td>False</td>\n",
       "    </tr>\n",
       "    <tr>\n",
       "      <th>19</th>\n",
       "      <td>False</td>\n",
       "    </tr>\n",
       "    <tr>\n",
       "      <th>20</th>\n",
       "      <td>False</td>\n",
       "    </tr>\n",
       "    <tr>\n",
       "      <th>21</th>\n",
       "      <td>False</td>\n",
       "    </tr>\n",
       "    <tr>\n",
       "      <th>22</th>\n",
       "      <td>False</td>\n",
       "    </tr>\n",
       "    <tr>\n",
       "      <th>23</th>\n",
       "      <td>False</td>\n",
       "    </tr>\n",
       "    <tr>\n",
       "      <th>24</th>\n",
       "      <td>False</td>\n",
       "    </tr>\n",
       "    <tr>\n",
       "      <th>25</th>\n",
       "      <td>True</td>\n",
       "    </tr>\n",
       "    <tr>\n",
       "      <th>26</th>\n",
       "      <td>False</td>\n",
       "    </tr>\n",
       "    <tr>\n",
       "      <th>27</th>\n",
       "      <td>False</td>\n",
       "    </tr>\n",
       "    <tr>\n",
       "      <th>28</th>\n",
       "      <td>False</td>\n",
       "    </tr>\n",
       "    <tr>\n",
       "      <th>29</th>\n",
       "      <td>False</td>\n",
       "    </tr>\n",
       "    <tr>\n",
       "      <th>30</th>\n",
       "      <td>False</td>\n",
       "    </tr>\n",
       "    <tr>\n",
       "      <th>31</th>\n",
       "      <td>False</td>\n",
       "    </tr>\n",
       "    <tr>\n",
       "      <th>32</th>\n",
       "      <td>False</td>\n",
       "    </tr>\n",
       "    <tr>\n",
       "      <th>33</th>\n",
       "      <td>False</td>\n",
       "    </tr>\n",
       "    <tr>\n",
       "      <th>34</th>\n",
       "      <td>False</td>\n",
       "    </tr>\n",
       "    <tr>\n",
       "      <th>35</th>\n",
       "      <td>False</td>\n",
       "    </tr>\n",
       "    <tr>\n",
       "      <th>36</th>\n",
       "      <td>False</td>\n",
       "    </tr>\n",
       "    <tr>\n",
       "      <th>37</th>\n",
       "      <td>False</td>\n",
       "    </tr>\n",
       "    <tr>\n",
       "      <th>38</th>\n",
       "      <td>False</td>\n",
       "    </tr>\n",
       "    <tr>\n",
       "      <th>39</th>\n",
       "      <td>False</td>\n",
       "    </tr>\n",
       "    <tr>\n",
       "      <th>40</th>\n",
       "      <td>False</td>\n",
       "    </tr>\n",
       "    <tr>\n",
       "      <th>41</th>\n",
       "      <td>False</td>\n",
       "    </tr>\n",
       "    <tr>\n",
       "      <th>42</th>\n",
       "      <td>False</td>\n",
       "    </tr>\n",
       "    <tr>\n",
       "      <th>43</th>\n",
       "      <td>False</td>\n",
       "    </tr>\n",
       "    <tr>\n",
       "      <th>44</th>\n",
       "      <td>False</td>\n",
       "    </tr>\n",
       "    <tr>\n",
       "      <th>45</th>\n",
       "      <td>False</td>\n",
       "    </tr>\n",
       "    <tr>\n",
       "      <th>46</th>\n",
       "      <td>False</td>\n",
       "    </tr>\n",
       "    <tr>\n",
       "      <th>47</th>\n",
       "      <td>False</td>\n",
       "    </tr>\n",
       "    <tr>\n",
       "      <th>48</th>\n",
       "      <td>False</td>\n",
       "    </tr>\n",
       "    <tr>\n",
       "      <th>49</th>\n",
       "      <td>False</td>\n",
       "    </tr>\n",
       "    <tr>\n",
       "      <th>50</th>\n",
       "      <td>False</td>\n",
       "    </tr>\n",
       "    <tr>\n",
       "      <th>51</th>\n",
       "      <td>False</td>\n",
       "    </tr>\n",
       "    <tr>\n",
       "      <th>52</th>\n",
       "      <td>False</td>\n",
       "    </tr>\n",
       "  </tbody>\n",
       "</table>\n",
       "</div>"
      ],
      "text/plain": [
       "        0\n",
       "0   False\n",
       "1   False\n",
       "2   False\n",
       "3   False\n",
       "4   False\n",
       "5   False\n",
       "6   False\n",
       "7   False\n",
       "8   False\n",
       "9   False\n",
       "10  False\n",
       "11   True\n",
       "12  False\n",
       "13  False\n",
       "14  False\n",
       "15  False\n",
       "16  False\n",
       "17  False\n",
       "18  False\n",
       "19  False\n",
       "20  False\n",
       "21  False\n",
       "22  False\n",
       "23  False\n",
       "24  False\n",
       "25   True\n",
       "26  False\n",
       "27  False\n",
       "28  False\n",
       "29  False\n",
       "30  False\n",
       "31  False\n",
       "32  False\n",
       "33  False\n",
       "34  False\n",
       "35  False\n",
       "36  False\n",
       "37  False\n",
       "38  False\n",
       "39  False\n",
       "40  False\n",
       "41  False\n",
       "42  False\n",
       "43  False\n",
       "44  False\n",
       "45  False\n",
       "46  False\n",
       "47  False\n",
       "48  False\n",
       "49  False\n",
       "50  False\n",
       "51  False\n",
       "52  False"
      ]
     },
     "execution_count": 28,
     "metadata": {},
     "output_type": "execute_result"
    }
   ],
   "source": [
    "winecountry_df == \"\" "
   ]
  },
  {
   "cell_type": "markdown",
   "metadata": {},
   "source": [
    "## Kimono Labs\n",
    "\n"
   ]
  },
  {
   "cell_type": "code",
   "execution_count": null,
   "metadata": {
    "collapsed": true
   },
   "outputs": [],
   "source": []
  },
  {
   "cell_type": "code",
   "execution_count": null,
   "metadata": {
    "collapsed": true
   },
   "outputs": [],
   "source": []
  },
  {
   "cell_type": "markdown",
   "metadata": {},
   "source": [
    "Web scraping with the Kimono Labs API\n",
    "\n",
    "https://www.kimonolabs.com/\n",
    "\n",
    "Kimono labs has undergone a bit of a redesign in recent months and now encourages crawling for all the data you'd want ahead of time and extracting the batch in a series of calls. To create an api, follow the kimono labs walkthrough. To generate a large amount of data like we will here, a series of screenshot walkthroughs have been added.\n",
    "\n",
    "After creating an API from an advanced search query as walked through in class, navigate to the Crawl Setup tab from the API management page in kimono."
   ]
  },
  {
   "cell_type": "code",
   "execution_count": null,
   "metadata": {
    "collapsed": false
   },
   "outputs": [],
   "source": [
    "from IPython.display import Image\n",
    "Image(filename='KL_Crawl_Setup.png') "
   ]
  },
  {
   "cell_type": "markdown",
   "metadata": {},
   "source": [
    "Change the crawl strategy to Generated URL List"
   ]
  },
  {
   "cell_type": "code",
   "execution_count": null,
   "metadata": {
    "collapsed": false
   },
   "outputs": [],
   "source": [
    "from IPython.display import Image\n",
    "Image(filename='KL_Generated_URL_List.png') "
   ]
  },
  {
   "cell_type": "markdown",
   "metadata": {},
   "source": [
    "From here you can automatically generate a list of pages to extract data from, with the caveat that the pages you are navigating all have roughly the same structure. Here we are going to look for the top boxoffice_gross_us from 1990 to 2014. "
   ]
  },
  {
   "cell_type": "code",
   "execution_count": null,
   "metadata": {
    "collapsed": false
   },
   "outputs": [],
   "source": [
    "from IPython.display import Image\n",
    "Image(filename='KL_Parameter_range.png') "
   ]
  },
  {
   "cell_type": "code",
   "execution_count": null,
   "metadata": {
    "collapsed": false
   },
   "outputs": [],
   "source": [
    "#After you let the data crawl the page, you can update the data here.\n",
    "\n",
    "import json\n",
    "import urllib\n",
    "\n",
    "results = json.load(urllib.urlopen(\"https://www.kimonolabs.com/api/eb81bu78?apikey=4WrTjTsFDGmHCLnYrAXeSLIjJYcfrG7j\"))\n",
    "results"
   ]
  },
  {
   "cell_type": "code",
   "execution_count": null,
   "metadata": {
    "collapsed": false
   },
   "outputs": [],
   "source": [
    "your_key = \"4WrTjTsFDGmHCLnYrAXeSLIjJYcfrG7j\"\n",
    "your_endpoint = \"eb81bu78\"\n",
    "import json\n",
    "import urllib\n",
    "import pandas as pd\n",
    "\n",
    "def getMovies(api_key=your_key,endpoint=your_endpoint):\n",
    "    \"\"\"\n",
    "    Creates list of top 50 movies by gross box office\n",
    "    sales for a with ratings and sales\n",
    "    \"\"\"\n",
    "    \n",
    "    movies, ratings, sales, years = [], [], [], []\n",
    "    #Remember to replace this link with the link to your specifc API\n",
    "    url = \"https://www.kimonolabs.com/api/{}?\".format(endpoint) + \\\n",
    "            \"apikey={}\".format(api_key)\n",
    "    data = json.load(urllib.urlopen(url))\n",
    "    \n",
    "    # Iterate through json object to collect data\n",
    "    for n in xrange(data['count']):\n",
    "        n_title = data['results']['collection1'][n]['title']['text']\n",
    "        n_rating = float(data['results']['collection1'][n]['rating'])\n",
    "        n_sales = float(data['results']['collection1'][n]['sales'][1:-1])\n",
    "        n_year = int(data['results']['collection1'][n]['url'][-4:])\n",
    "        movies.append(n_title)\n",
    "        ratings.append(n_rating)\n",
    "        sales.append(n_sales)\n",
    "        years.append(n_year)\n",
    "    data = pd.DataFrame({'movie':movies,'rating':ratings,'sales_in_M':sales,'year':years})\n",
    "    \n",
    "    return data\n",
    "movies = getMovies()\n",
    "movies.head()"
   ]
  },
  {
   "cell_type": "markdown",
   "metadata": {},
   "source": [
    "Note a few things: The function we wrote relies on extracting pieces of a string and converting them to numeric types. Here, the year can be extracted from the url used to generate the movies, so we use the slice `[-4:]` to identify that. Similarly, the gross cost comes out as $##M, so we know we never want the first or last value. Thus the slice `[1:-1]` is correct."
   ]
  },
  {
   "cell_type": "markdown",
   "metadata": {},
   "source": [
    "###Exercise 2.1\n",
    "Build your own api via kimono at https://www.kimonolabs.com/. Create the api we created in class to call the data.\n",
    "\n",
    "What were the average sales in 1995?\n",
    "What was the average rating?"
   ]
  },
  {
   "cell_type": "code",
   "execution_count": null,
   "metadata": {
    "collapsed": false
   },
   "outputs": [],
   "source": []
  },
  {
   "cell_type": "markdown",
   "metadata": {},
   "source": [
    "###Bonus\n",
    "What were the average sales for the 90s? How does that differ from the 2000s?"
   ]
  },
  {
   "cell_type": "code",
   "execution_count": null,
   "metadata": {
    "collapsed": false
   },
   "outputs": [],
   "source": []
  }
 ],
 "metadata": {
  "kernelspec": {
   "display_name": "Python 2",
   "language": "python",
   "name": "python2"
  },
  "language_info": {
   "codemirror_mode": {
    "name": "ipython",
    "version": 2
   },
   "file_extension": ".py",
   "mimetype": "text/x-python",
   "name": "python",
   "nbconvert_exporter": "python",
   "pygments_lexer": "ipython2",
   "version": "2.7.10"
  }
 },
 "nbformat": 4,
 "nbformat_minor": 0
}
